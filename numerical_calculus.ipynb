{
 "cells": [
  {
   "cell_type": "code",
   "execution_count": 12,
   "metadata": {},
   "outputs": [],
   "source": [
    "import numpy as np\n",
    "from numpy import typing as nptyping"
   ]
  },
  {
   "cell_type": "markdown",
   "metadata": {},
   "source": [
    "# Numerical Differentiation"
   ]
  },
  {
   "cell_type": "markdown",
   "metadata": {},
   "source": [
    "### Coefficients of central finite difference approximations<br> \n",
    "\n",
    "$$f^{(n)}(x_j)=\\frac{1}{h^n}\\sum_{q}{c_q}f(x_{j+q})+\\mathcal{O}(h^{\\nu})$$\n",
    "\n",
    "|<center>$$n$$|<center>$$\\nu$$ |<center>$$c_{-4}$$|<center>$$c_{-3}$$|<center>$$c_{-2}$$|<center>$$c_{-1}$$|<center>$$c_{0}$$|<center>$$c_{+1}$$|<center>$$c_{+2}$$|<center>$$c_{+3}$$|<center>$$c_{+4}$$|\n",
    "|-|-|-|-|-|-|-|-|-|-|-|\n",
    "|<center>1|<center>2|<center>0|<center>0|<center>0|<center>-1/2|<center>0|<center>1/2|<center>0|<center>0|<center>0|\n",
    "|<center>1|<center>4|<center>0|<center>0|<center>1/12|<center>-2/3|<center>0|<center>2/3|<center>-1/12|<center>0|<center>0|\n",
    "|<center>1|<center>6|<center>0|<center>-1/60|<center>3/20|<center>-3/4|<center>0|<center>3/4|<center>-3/20|<center>1/60|<center>0|\n",
    "|<center>2|<center>2|<center>0|<center>0|<center>0|<center>1|<center>-2|<center>1|<center>0|<center>0|<center>0|\n",
    "|<center>2|<center>4|<center>0|<center>0|<center>-1/12|<center>4/3|<center>-5/2|<center>4/3|<center>-1/12|<center>0|<center>0|\n",
    "|<center>2|<center>6|<center>0|<center>1/90|<center>-3/20|<center>3/2|<center>-49/18|<center>3/2|<center>-3/20|<center>1/90|<center>0|\n",
    "|<center>3|<center>2|<center>0|<center>0|<center>-1/2|<center>1|<center>0|<center>-1|<center>1/2|<center>0|<center>0|\n",
    "|<center>3|<center>4|<center>0|<center>1/8|<center>-1|<center>13/8|<center>0|<center>-13/8|<center>1|<center>-1/8|<center>0|\n",
    "|<center>3|<center>6|<center>-7/240|<center>3/10|<center>-169/120|<center>61/30|<center>0|<center>-61/30|<center>169/120|<center>-3/10|<center>7/240|\n",
    "|<center>4|<center>2|<center>0|<center>0|<center>1|<center>-4|<center>6|<center>-4|<center>1|<center>0|<center>0|\n",
    "|<center>4|<center>4|<center>0|<center>-1/6|<center>2|<center>-13/2|<center>28/3|<center>-13/2|<center>2|<center>-1/6|<center>0|\n",
    "|<center>4|<center>6|<center>7/240|<center>-2/5|<center>169/60|<center>-122/15|<center>91/8|<center>-122/15|<center>169/60|<center>-2/5|<center>7/240|\n",
    "    \n",
    "* e.g. 3rd order ($n=3$) derivative with $\\mathcal{O}(h^4)$ ($\\nu =4$)\n",
    "    $$f^{(3)}(x_j)=f(x_j)^{\\prime\\prime\\prime}=\\frac{f(x_{j-3})-8f(x_{j-2})+13f(x_{j-1})-13f(x_{j+1})+8f(x_{j+2})-f(x_{j+3})}{8h^3}$$"
   ]
  },
  {
   "cell_type": "code",
   "execution_count": 13,
   "metadata": {},
   "outputs": [],
   "source": [
    "def finite_difference(f, x, space=1e-2, order=1):\n",
    "    \"\"\"\n",
    "    Returns derivative of function f at point x, based on central finite difference.\n",
    "    Order of remaining terms are above 2.\n",
    "    Maximum order of 4.\n",
    "    \"\"\"\n",
    "    coeff = np.array(\n",
    "        [\n",
    "            [0, 0, 0, -1 / 2, 0, 1 / 2, 0, 0, 0],\n",
    "            [0, 0, 0, 1, -2, 1, 0, 0, 0],\n",
    "            [0, 0, -1 / 2, 1, 0, -1, 1 / 2, 0, 0],\n",
    "            [0, 0, 1, -4, 6, -4, 1, 0, 0],\n",
    "        ]\n",
    "    )\n",
    "    x_grid = np.array(\n",
    "        [\n",
    "            [\n",
    "                x - 4 * space,\n",
    "                x - 3 * space,\n",
    "                x - 2 * space,\n",
    "                x - space,\n",
    "                x,\n",
    "                x + space,\n",
    "                x + 2 * space,\n",
    "                x + 3 * space,\n",
    "                x + 4 * space,\n",
    "            ]\n",
    "        ]\n",
    "    ).T\n",
    "    f_diff = np.sum(np.dot(coeff[order - 1, :], f(x_grid))) / space**order\n",
    "\n",
    "    return f_diff"
   ]
  },
  {
   "cell_type": "code",
   "execution_count": 14,
   "metadata": {},
   "outputs": [
    {
     "data": {
      "text/plain": [
       "0.9999833334166665"
      ]
     },
     "execution_count": 14,
     "metadata": {},
     "output_type": "execute_result"
    }
   ],
   "source": [
    "# Example of finite difference\n",
    "my_func = lambda x: np.sin(x)\n",
    "\n",
    "diff = finite_difference(my_func, 0)\n",
    "diff"
   ]
  },
  {
   "cell_type": "markdown",
   "metadata": {},
   "source": [
    "# Numerical Integration"
   ]
  },
  {
   "cell_type": "markdown",
   "metadata": {},
   "source": [
    "## Trapezoidal Rule"
   ]
  },
  {
   "cell_type": "code",
   "execution_count": 15,
   "metadata": {},
   "outputs": [],
   "source": [
    "def trapezoidal(f, interval: nptyping.ArrayLike, num: int):\n",
    "    grid = np.linspace(interval[0], interval[1], num)\n",
    "    result = (f(grid[0]) / 2 + f(grid[-1]) / 2 + np.sum(f(grid[1:-1]))) * (\n",
    "        grid[1] - grid[0]\n",
    "    )\n",
    "\n",
    "    return result"
   ]
  },
  {
   "cell_type": "code",
   "execution_count": 16,
   "metadata": {},
   "outputs": [
    {
     "name": "stdout",
     "output_type": "stream",
     "text": [
      "-0.25994825341093203\n",
      "(-0.25994294716129407, 2.8859464502738915e-15)\n"
     ]
    }
   ],
   "source": [
    "# Example of trapezoidal rule\n",
    "import scipy.integrate as sciInt\n",
    "\n",
    "my_func = lambda x: 4 * x / (2 - 8 * x**2)\n",
    "\n",
    "area = trapezoidal(my_func, [3, 5], 51)\n",
    "area2 = sciInt.quad(my_func, 3, 5)\n",
    "print(area)\n",
    "print(area2)"
   ]
  },
  {
   "cell_type": "markdown",
   "metadata": {},
   "source": [
    "## Simpson's Rule"
   ]
  },
  {
   "cell_type": "code",
   "execution_count": 17,
   "metadata": {},
   "outputs": [],
   "source": [
    "def simpson(f, interval: nptyping.ArrayLike, num: int):\n",
    "    if ~num % 2:\n",
    "        raise Exception(\"Number of grid points should be odd.\")\n",
    "    grid = np.linspace(interval[0], interval[1], num)\n",
    "    odd_terms = grid[1:-1:2]\n",
    "    even_terms = grid[2:-1:2]\n",
    "    result = (\n",
    "        (\n",
    "            f(grid[0])\n",
    "            + f(grid[-1])\n",
    "            + 4 * np.sum(f(odd_terms))\n",
    "            + 2 * np.sum(f(even_terms))\n",
    "        )\n",
    "        * (grid[1] - grid[0])\n",
    "        / 3\n",
    "    )\n",
    "\n",
    "    return result"
   ]
  },
  {
   "cell_type": "code",
   "execution_count": 18,
   "metadata": {},
   "outputs": [
    {
     "name": "stdout",
     "output_type": "stream",
     "text": [
      "-0.25994294777388854\n",
      "(-0.25994294716129407, 2.8859464502738915e-15)\n"
     ]
    }
   ],
   "source": [
    "# Example of trapezoidal rule\n",
    "import scipy.integrate as sciInt\n",
    "\n",
    "my_func = lambda x: 4 * x / (2 - 8 * x**2)\n",
    "\n",
    "area = simpson(my_func, [3, 5], 51)\n",
    "area2 = sciInt.quad(my_func, 3, 5)\n",
    "print(area)\n",
    "print(area2)"
   ]
  },
  {
   "cell_type": "code",
   "execution_count": null,
   "metadata": {},
   "outputs": [],
   "source": []
  }
 ],
 "metadata": {
  "kernelspec": {
   "display_name": "pythonbase",
   "language": "python",
   "name": "python3"
  },
  "language_info": {
   "codemirror_mode": {
    "name": "ipython",
    "version": 3
   },
   "file_extension": ".py",
   "mimetype": "text/x-python",
   "name": "python",
   "nbconvert_exporter": "python",
   "pygments_lexer": "ipython3",
   "version": "3.10.13"
  }
 },
 "nbformat": 4,
 "nbformat_minor": 2
}
