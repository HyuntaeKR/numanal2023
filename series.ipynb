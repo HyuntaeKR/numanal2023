{
 "cells": [
  {
   "cell_type": "markdown",
   "metadata": {},
   "source": [
    "# Maclaurin Series"
   ]
  },
  {
   "cell_type": "markdown",
   "metadata": {},
   "source": [
    "## Example 1\n",
    "Write a symbolic math code that finds an approximate expression of $\\ln(3+4x)$ by quartic Maclaurin series with respect to $x$."
   ]
  },
  {
   "cell_type": "code",
   "execution_count": 13,
   "metadata": {},
   "outputs": [
    {
     "data": {
      "text/latex": [
       "$\\displaystyle - \\frac{8 x^{2}}{9} + \\frac{4 x}{3} + \\log{\\left(3 \\right)}$"
      ],
      "text/plain": [
       "     2               \n",
       "  8⋅x    4⋅x         \n",
       "- ──── + ─── + log(3)\n",
       "   9      3          "
      ]
     },
     "metadata": {},
     "output_type": "display_data"
    }
   ],
   "source": [
    "import sympy as sy\n",
    "from IPython.display import display\n",
    "\n",
    "\n",
    "def maclaurin(expr, order: int = 2):\n",
    "    \"\"\"\n",
    "    Returns maclaurin series of expression with given order.\n",
    "    \"\"\"\n",
    "    x = sy.symbols(\"x\")\n",
    "    series = 0\n",
    "    for i in range(order + 1):\n",
    "        series += sy.diff(expr, x, i).subs(x, 0) * x**i / sy.factorial(i)\n",
    "\n",
    "    return series\n",
    "\n",
    "\n",
    "x = sy.symbols(\"x\")\n",
    "expr = sy.ln(3 + 4 * x)\n",
    "quad_series = maclaurin(expr)\n",
    "display(quad_series)"
   ]
  },
  {
   "cell_type": "markdown",
   "metadata": {},
   "source": [
    "## Example 2\n",
    "Write a code that finds the quadratic Taylor expansion of $f(x, y)=e^{-(x^2+y^2)}$ at $\\textbf{a}=(1,2)$.\n",
    "$$\n",
    "\\begin{align*}\n",
    "    f(\\textbf{x})&=f(\\textbf{a})+\\nabla f(\\textbf{a})^T\\textbf{u}+\\frac{1}{2}\\textbf{u}^TH_f(\\textbf{a})\\textbf{u}\n",
    "    \\end{align*}\n",
    "$$\n",
    "where $\\textbf{u}=\\textbf{x}-\\textbf{a}$"
   ]
  },
  {
   "cell_type": "code",
   "execution_count": 7,
   "metadata": {},
   "outputs": [
    {
     "data": {
      "text/latex": [
       "$\\displaystyle \\frac{x^{2} + 8 x y - 20 x + 7 y^{2} - 40 y + 56}{e^{5}}$"
      ],
      "text/plain": [
       "(x**2 + 8*x*y - 20*x + 7*y**2 - 40*y + 56)*exp(-5)"
      ]
     },
     "metadata": {},
     "output_type": "display_data"
    }
   ],
   "source": [
    "from sympy import *\n",
    "from IPython.display import display\n",
    "\n",
    "\n",
    "def quad_taylor(expr, center=list):\n",
    "    \"\"\"\n",
    "    Returns the quadratic taylor expansion of a two variable form expression\n",
    "    about the given center.\n",
    "    \"\"\"\n",
    "    x, y = symbols(\"x y\")\n",
    "    symbol_vect = Matrix([[x, y]]).T\n",
    "    center_vect = Matrix([center]).T\n",
    "    term1 = expr.subs([(x, center[0]), (y, center[1])])\n",
    "    term2 = Matrix(\n",
    "        [\n",
    "            [\n",
    "                diff(expr, x).subs([(x, center[0]), (y, center[1])]),\n",
    "                diff(expr, y).subs([(x, center[0]), (y, center[1])]),\n",
    "            ]\n",
    "        ]\n",
    "    ).dot(symbol_vect - center_vect)\n",
    "    term3_1 = Matrix(\n",
    "        [\n",
    "            [\n",
    "                diff(expr, x, 2).subs([(x, center[0]), (y, center[1])]),\n",
    "                diff(diff(expr, x), y).subs([(x, center[0]), (y, center[1])]),\n",
    "            ],\n",
    "            [\n",
    "                diff(diff(expr, y), x).subs([(x, center[0]), (y, center[1])]),\n",
    "                diff(expr, y, 2).subs([(x, center[0]), (y, center[1])]),\n",
    "            ],\n",
    "        ]\n",
    "    ) * (symbol_vect - center_vect)\n",
    "    term3_2 = ((symbol_vect - center_vect).T) * (term3_1) / 2\n",
    "\n",
    "    series = term1 + term2 + term3_2[0]\n",
    "    series = simplify(series)\n",
    "\n",
    "    return series\n",
    "\n",
    "\n",
    "x, y = symbols(\"x y\")\n",
    "expr = exp(-(x**2 + y**2))\n",
    "display(quad_taylor(expr, [1, 2]))"
   ]
  },
  {
   "cell_type": "code",
   "execution_count": null,
   "metadata": {},
   "outputs": [],
   "source": []
  }
 ],
 "metadata": {
  "kernelspec": {
   "display_name": "pythonbase",
   "language": "python",
   "name": "python3"
  },
  "language_info": {
   "codemirror_mode": {
    "name": "ipython",
    "version": 3
   },
   "file_extension": ".py",
   "mimetype": "text/x-python",
   "name": "python",
   "nbconvert_exporter": "python",
   "pygments_lexer": "ipython3",
   "version": "3.10.13"
  }
 },
 "nbformat": 4,
 "nbformat_minor": 2
}
