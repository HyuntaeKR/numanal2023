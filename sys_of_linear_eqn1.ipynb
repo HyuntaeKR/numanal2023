{
 "cells": [
  {
   "cell_type": "markdown",
   "metadata": {},
   "source": [
    "# Gaussian Elimination"
   ]
  },
  {
   "cell_type": "code",
   "execution_count": 39,
   "metadata": {},
   "outputs": [],
   "source": [
    "import numpy as np\n",
    "from numpy import linalg as la"
   ]
  },
  {
   "cell_type": "markdown",
   "metadata": {},
   "source": [
    "## Partial Pivoting"
   ]
  },
  {
   "cell_type": "code",
   "execution_count": 40,
   "metadata": {},
   "outputs": [],
   "source": [
    "def partial_pivot(mat: np.ndarray, column: int) -> np.ndarray:\n",
    "    \"\"\"\n",
    "    Partially pivots matrix(mat) with respect to input column.\n",
    "    \"\"\"\n",
    "    # Should consider the absolute maximum value.\n",
    "    # Should add 'column' because the argmax returns relative index.\n",
    "    max_row = np.argmax(abs(mat[column:, column])) + column\n",
    "\n",
    "    if max_row == column:\n",
    "        return mat\n",
    "    else:\n",
    "        # How to switch rows!\n",
    "        mat[[column, max_row], :] = mat[[max_row, column], :]\n",
    "        return mat"
   ]
  },
  {
   "cell_type": "code",
   "execution_count": 41,
   "metadata": {},
   "outputs": [
    {
     "name": "stdout",
     "output_type": "stream",
     "text": [
      "original matrix >> [[ 4.  3. -5. -7.]\n",
      " [-2. -4.  5. 11.]\n",
      " [ 8.  8.  0. -8.]]\n",
      "pivoted matrix >> [[ 4.  3. -5. -7.]\n",
      " [ 8.  8.  0. -8.]\n",
      " [-2. -4.  5. 11.]]\n"
     ]
    }
   ],
   "source": [
    "# Example of partial pivoting\n",
    "mat = np.array([[4.0, 3, -5, -7], [-2, -4, 5, 11], [8, 8, 0, -8]])\n",
    "print(f\"original matrix >> {mat}\")\n",
    "mat_pivot = partial_pivot(mat, 1)\n",
    "print(f\"pivoted matrix >> {mat_pivot}\")"
   ]
  },
  {
   "cell_type": "markdown",
   "metadata": {},
   "source": [
    "## Row Echelon Form"
   ]
  },
  {
   "cell_type": "code",
   "execution_count": 42,
   "metadata": {},
   "outputs": [],
   "source": [
    "def row_echelon_form(mat: np.ndarray, naive: bool = False) -> np.ndarray:\n",
    "    \"\"\"\n",
    "    Returns row echelon form of a matrix.\n",
    "    \"\"\"\n",
    "    row = len(mat)\n",
    "    # Copy of matrix to return\n",
    "    # Note that simply assigning mat to mat_ref will modify the original matrix too!\n",
    "    # =====\n",
    "    # When you assign an ndarray to another variable,\n",
    "    # it creates a reference to the same data rather than making a copy of the data.\n",
    "    # ===== By. ChatGPT\n",
    "\n",
    "    mat_ref = np.copy(mat)\n",
    "\n",
    "    for row_idx in range(row - 1):\n",
    "        if ~naive:\n",
    "            mat_ref = partial_pivot(mat_ref, row_idx)\n",
    "        for row_idx2 in range(row_idx + 1, row):\n",
    "            if mat_ref[row_idx2, row_idx] != 0:\n",
    "                multiplier = mat_ref[row_idx2, row_idx] / mat_ref[row_idx, row_idx]\n",
    "                mat_ref[row_idx2, :] = (\n",
    "                    mat_ref[row_idx2, :] - multiplier * mat_ref[row_idx, :]\n",
    "                )\n",
    "\n",
    "    return mat_ref"
   ]
  },
  {
   "cell_type": "code",
   "execution_count": 43,
   "metadata": {},
   "outputs": [
    {
     "name": "stdout",
     "output_type": "stream",
     "text": [
      "original >> [[ 4.  3. -5. -7.]\n",
      " [-2. -4.  5. 11.]\n",
      " [ 8.  8.  0. -8.]]\n",
      "ref >> [[ 8.   8.   0.  -8. ]\n",
      " [ 0.  -2.   5.   9. ]\n",
      " [ 0.   0.  -7.5 -7.5]]\n"
     ]
    }
   ],
   "source": [
    "# Example of row echelon form\n",
    "mat = np.array([[4.0, 3, -5, -7], [-2, -4, 5, 11], [8, 8, 0, -8]])\n",
    "mat_ref = row_echelon_form(mat)\n",
    "print(f\"original >> {mat}\")\n",
    "print(f\"ref >> {mat_ref}\")"
   ]
  },
  {
   "cell_type": "markdown",
   "metadata": {},
   "source": [
    "## Get system's info"
   ]
  },
  {
   "cell_type": "code",
   "execution_count": 44,
   "metadata": {},
   "outputs": [],
   "source": [
    "def get_sys_info(coeff_mat: np.ndarray, const_vect: np.ndarray) -> int:\n",
    "    \"\"\"\n",
    "    Prints out the info for system of linear equations\n",
    "    and returns number of solutions.\n",
    "    \"\"\"\n",
    "    row, column = np.shape(coeff_mat)\n",
    "    rank_coeff = la.matrix_rank(coeff_mat)\n",
    "    # Augmented matrix\n",
    "    aug_mat = np.hstack((coeff_mat, const_vect))\n",
    "    rank_aug = la.matrix_rank(aug_mat)\n",
    "\n",
    "    if rank_aug == rank_coeff + 1:\n",
    "        print(\"Inconsistent system. No solution.\")\n",
    "        num_sol = 0\n",
    "        return num_sol\n",
    "    elif rank_aug == rank_coeff:\n",
    "        if row == column:\n",
    "            print(\"Consistent and independent system. Unique solution.\")\n",
    "            num_sol = 1\n",
    "            return num_sol\n",
    "        else:\n",
    "            print(\"Consistent and dependent system. Infinite solutions.\")\n",
    "            num_sol = np.inf\n",
    "            return num_sol\n",
    "    else:\n",
    "        print(\"Unvalid system.\")\n",
    "        return np.nan"
   ]
  },
  {
   "cell_type": "code",
   "execution_count": 45,
   "metadata": {},
   "outputs": [
    {
     "name": "stdout",
     "output_type": "stream",
     "text": [
      "Consistent and independent system. Unique solution.\n",
      "Number of solutions >> 1\n"
     ]
    }
   ],
   "source": [
    "# Example of getting system info\n",
    "coeff_mat = np.array([[4.0, 3, -5], [-2, -4, 5], [8, 8, 0]])\n",
    "const_vect = np.array([[-7], [11], [-8]])\n",
    "num_sol = get_sys_info(coeff_mat, const_vect)\n",
    "print(f\"Number of solutions >> {num_sol}\")"
   ]
  },
  {
   "cell_type": "markdown",
   "metadata": {},
   "source": [
    "## Gaussian Elimination"
   ]
  },
  {
   "cell_type": "code",
   "execution_count": 46,
   "metadata": {},
   "outputs": [],
   "source": [
    "def gaussian_elim(\n",
    "    coeff_mat: np.ndarray, const_vect: np.ndarray, naive: bool = False\n",
    ") -> np.ndarray:\n",
    "    \"\"\"\n",
    "    Implements Gaussian elimination.\n",
    "    Returns the root of the system.\n",
    "    \"\"\"\n",
    "    row = len(coeff_mat)\n",
    "    num_sol = get_sys_info(coeff_mat, const_vect)\n",
    "    if num_sol != 1:\n",
    "        raise Exception(\"Cannot get root!\")\n",
    "    aug_mat_ref = row_echelon_form(np.hstack((coeff_mat, const_vect)), naive)\n",
    "    root_vect = np.zeros((row, 1))\n",
    "    # Backward substitution\n",
    "    # Can iterate through range in reverse order.\n",
    "    for row_idx in range(row - 1, -1, -1):\n",
    "        root_vect[row_idx] = (\n",
    "            aug_mat_ref[row_idx, -1]\n",
    "            - np.dot(\n",
    "                # This part should use aug_mat_ref instead of aug_mat!\n",
    "                aug_mat_ref[row_idx, row_idx + 1 : -1],\n",
    "                root_vect[row_idx + 1 :, 0],\n",
    "            )\n",
    "        ) / aug_mat_ref[row_idx, row_idx]\n",
    "\n",
    "    return root_vect"
   ]
  },
  {
   "cell_type": "code",
   "execution_count": 47,
   "metadata": {},
   "outputs": [
    {
     "name": "stdout",
     "output_type": "stream",
     "text": [
      "Consistent and independent system. Unique solution.\n",
      "solution >> [[ 1.]\n",
      " [-2.]\n",
      " [ 1.]]\n"
     ]
    }
   ],
   "source": [
    "# Example of Gaussian elimination\n",
    "coeff_mat = np.array([[4.0, 3, -5], [-2, -4, 5], [8, 8, 0]])\n",
    "const_vect = np.array([[-7], [11], [-8]])\n",
    "root = gaussian_elim(coeff_mat, const_vect, False)\n",
    "print(f\"solution >> {root}\")"
   ]
  },
  {
   "cell_type": "markdown",
   "metadata": {},
   "source": [
    "## Backward Elimination & Forward Substitution"
   ]
  },
  {
   "cell_type": "code",
   "execution_count": 48,
   "metadata": {},
   "outputs": [],
   "source": [
    "# Reversed partial_pivot for backward elimination."
   ]
  },
  {
   "cell_type": "code",
   "execution_count": 49,
   "metadata": {},
   "outputs": [],
   "source": [
    "def rev_partial_pivot(mat: np.ndarray, column: int) -> np.ndarray:\n",
    "    \"\"\"\n",
    "    Partially pivots matrix(mat) with respect to input column.\n",
    "    \"\"\"\n",
    "    # Should consider the absolute maximum value.\n",
    "    # Should add 'column' because the argmax returns relative index.\n",
    "    max_row = np.argmax(abs(mat[: column + 1, column]))\n",
    "\n",
    "    if max_row == column:\n",
    "        return mat\n",
    "    else:\n",
    "        # How to switch rows!\n",
    "        mat[[column, max_row], :] = mat[[max_row, column], :]\n",
    "        return mat"
   ]
  },
  {
   "cell_type": "code",
   "execution_count": 50,
   "metadata": {},
   "outputs": [],
   "source": [
    "# Use backward_elim instead of row_echelon_form\n",
    "def backward_elim(mat: np.ndarray, naive: bool = False) -> np.ndarray:\n",
    "    \"\"\"\n",
    "    Makes the input matrix into lower triangluar form\n",
    "    by elemetary row operation.\n",
    "    \"\"\"\n",
    "    row = len(mat)\n",
    "    mat_lowtri = np.copy(mat)\n",
    "\n",
    "    for row_idx in range(row - 1, 0, -1):\n",
    "        if ~naive:\n",
    "            mat_lowtri = rev_partial_pivot(mat_lowtri, row_idx)\n",
    "        for row_idx2 in range(row_idx - 1, -1, -1):\n",
    "            multiplier = mat_lowtri[row_idx2, row_idx] / mat_lowtri[row_idx, row_idx]\n",
    "            mat_lowtri[row_idx2, :] = (\n",
    "                mat_lowtri[row_idx2, :] - multiplier * mat_lowtri[row_idx, :]\n",
    "            )\n",
    "\n",
    "    return mat_lowtri"
   ]
  },
  {
   "cell_type": "code",
   "execution_count": 57,
   "metadata": {},
   "outputs": [],
   "source": [
    "def rev_gaussian_elim(\n",
    "    coeff_mat: np.ndarray, const_vect: np.ndarray, naive: bool = False\n",
    ") -> np.ndarray:\n",
    "    \"\"\"\n",
    "    Reversed Gaussian elimination.\n",
    "    Implements backward elimination and forward substitution.\n",
    "    \"\"\"\n",
    "    row, column = np.shape(coeff_mat)\n",
    "    num_sol = get_sys_info(coeff_mat, const_vect)\n",
    "    if num_sol != 1:\n",
    "        raise Exception(\"Cannot get root!\")\n",
    "    aug_mat_lowtri = backward_elim(np.hstack((coeff_mat, const_vect)), naive)\n",
    "    root_vect = np.zeros((row, 1))\n",
    "    # Forward substitution\n",
    "    for row_idx in range(row):\n",
    "        root_vect[row_idx] = (\n",
    "            aug_mat_lowtri[row_idx, -1]\n",
    "            - np.dot(aug_mat_lowtri[row_idx, :row_idx], root_vect[:row_idx, 0])\n",
    "        ) / aug_mat_lowtri[row_idx, row_idx]\n",
    "\n",
    "    return root_vect"
   ]
  },
  {
   "cell_type": "code",
   "execution_count": 59,
   "metadata": {},
   "outputs": [
    {
     "name": "stdout",
     "output_type": "stream",
     "text": [
      "Consistent and independent system. Unique solution.\n",
      "solution >> [[ 1.]\n",
      " [-2.]\n",
      " [ 1.]]\n"
     ]
    }
   ],
   "source": [
    "# Example of Gaussian elimination\n",
    "coeff_mat = np.array([[4.0, 3, -5], [-2, -4, 5], [8, 8, 0]])\n",
    "const_vect = np.array([[-7], [11], [-8]])\n",
    "root = rev_gaussian_elim(coeff_mat, const_vect, False)\n",
    "print(f\"solution >> {root}\")"
   ]
  },
  {
   "cell_type": "code",
   "execution_count": null,
   "metadata": {},
   "outputs": [],
   "source": []
  }
 ],
 "metadata": {
  "kernelspec": {
   "display_name": "general",
   "language": "python",
   "name": "python3"
  },
  "language_info": {
   "codemirror_mode": {
    "name": "ipython",
    "version": 3
   },
   "file_extension": ".py",
   "mimetype": "text/x-python",
   "name": "python",
   "nbconvert_exporter": "python",
   "pygments_lexer": "ipython3",
   "version": "3.10.13"
  }
 },
 "nbformat": 4,
 "nbformat_minor": 2
}
