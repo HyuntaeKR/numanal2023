{
 "cells": [
  {
   "cell_type": "markdown",
   "metadata": {},
   "source": [
    "# LU Decomposition"
   ]
  },
  {
   "cell_type": "code",
   "execution_count": 6,
   "metadata": {},
   "outputs": [],
   "source": [
    "import numpy as np\n",
    "import typing\n",
    "\n",
    "import linalg_modules as linalg"
   ]
  },
  {
   "cell_type": "markdown",
   "metadata": {},
   "source": [
    "## Doolittle's Method"
   ]
  },
  {
   "cell_type": "code",
   "execution_count": 7,
   "metadata": {},
   "outputs": [],
   "source": [
    "def lu_decomp(coeff_mat: np.ndarray, const_vect: np.ndarray) -> typing.List[np.ndarray]:\n",
    "    \"\"\"\n",
    "    Implements LU decomposition based on Doolittle's method.\n",
    "    Returns list of [L, U, b'].\n",
    "    Basically the same algorithm with row_echelon_form but\n",
    "    records the multiplier value in L.\n",
    "    \"\"\"\n",
    "    row = len(coeff_mat)\n",
    "    # Create identity matrix for L\n",
    "    lowertri = np.eye(row)\n",
    "    uppertri = np.copy(coeff_mat)\n",
    "    pivot_const = np.copy(const_vect)\n",
    "\n",
    "    for row_idx in range(row - 1):\n",
    "        # Implement partial pivoting by default\n",
    "        max_row = np.argmax(abs(uppertri[row_idx:, row_idx])) + row_idx\n",
    "        if max_row != row_idx:\n",
    "            uppertri[[row_idx, max_row], :] = uppertri[[max_row, row_idx], :]\n",
    "            pivot_const[[row_idx, max_row]] = pivot_const[[max_row, row_idx]]\n",
    "\n",
    "        for row_idx2 in range(row_idx + 1, row):\n",
    "            multiplier = uppertri[row_idx2, row_idx] / uppertri[row_idx, row_idx]\n",
    "            uppertri[row_idx2, :] = (\n",
    "                uppertri[row_idx2, :] - multiplier * uppertri[row_idx, :]\n",
    "            )\n",
    "            lowertri[row_idx2, row_idx] = multiplier\n",
    "\n",
    "    return [lowertri, uppertri, pivot_const]"
   ]
  },
  {
   "cell_type": "code",
   "execution_count": 8,
   "metadata": {},
   "outputs": [
    {
     "name": "stdout",
     "output_type": "stream",
     "text": [
      "L >> [[ 1.    0.    0.  ]\n",
      " [-0.25  1.    0.  ]\n",
      " [ 0.5   0.5   1.  ]]\n",
      "U >> [[ 8.   8.   0. ]\n",
      " [ 0.  -2.   5. ]\n",
      " [ 0.   0.  -7.5]]\n",
      "b' >> [[-8]\n",
      " [11]\n",
      " [-7]]\n"
     ]
    }
   ],
   "source": [
    "# Example of LU Decomposition\n",
    "mat = np.array([[4.0, 3, -5], [-2, -4, 5], [8, 8, 0]])\n",
    "const_vect = np.array([[-7], [11], [-8]])\n",
    "lowertri, uppertri, pivot_const = lu_decomp(mat, const_vect)\n",
    "print(f\"L >> {lowertri}\")\n",
    "print(f\"U >> {uppertri}\")\n",
    "print(f\"b' >> {pivot_const}\")"
   ]
  },
  {
   "cell_type": "markdown",
   "metadata": {},
   "source": [
    "## Find root using LU Decomposition"
   ]
  },
  {
   "cell_type": "code",
   "execution_count": 9,
   "metadata": {},
   "outputs": [],
   "source": [
    "def solve_lud(coeff_mat: np.ndarray, const_vect: np.ndarray) -> np.ndarray:\n",
    "    \"\"\"\n",
    "    Returns the root of a system of linear equations using LU decomposition.\n",
    "    \"\"\"\n",
    "    # Use len() instead of using np.shape() and not using the column variable\n",
    "    row = len(coeff_mat)\n",
    "    lowertri, uppertri, pivot_const = lu_decomp(coeff_mat, const_vect)\n",
    "    # Forward substitution to get vector y where,\n",
    "    # Ly = b\n",
    "    vect_y = np.zeros((row, 1))\n",
    "    for row_idx in range(row):\n",
    "        vect_y[row_idx] = (\n",
    "            pivot_const[row_idx]\n",
    "            - np.dot(lowertri[row_idx, :row_idx], vect_y[:row_idx, 0])\n",
    "        ) / lowertri[row_idx, row_idx]\n",
    "    # print(uppertri)\n",
    "    # print(vect_y)\n",
    "    # Backward substitution to get root vector where,\n",
    "    # Ux = y\n",
    "    root_vect = np.zeros((row, 1))\n",
    "    for row_idx in range(row - 1, -1, -1):\n",
    "        root_vect[row_idx] = (\n",
    "            vect_y[row_idx, 0]\n",
    "            - np.dot(uppertri[row_idx, row_idx + 1 :], root_vect[row_idx + 1 :])\n",
    "        ) / uppertri[row_idx, row_idx]\n",
    "\n",
    "    return root_vect"
   ]
  },
  {
   "cell_type": "code",
   "execution_count": 10,
   "metadata": {},
   "outputs": [
    {
     "name": "stdout",
     "output_type": "stream",
     "text": [
      "solution >> [[ 1.]\n",
      " [-2.]\n",
      " [ 1.]]\n"
     ]
    }
   ],
   "source": [
    "# Example of LU Decomposition\n",
    "coeff_mat = np.array([[4.0, 3, -5], [-2, -4, 5], [8, 8, 0]])\n",
    "const_vect = np.array([[-7], [11], [-8]])\n",
    "root = solve_lud(coeff_mat, const_vect)\n",
    "print(f\"solution >> {root}\")"
   ]
  },
  {
   "cell_type": "markdown",
   "metadata": {},
   "source": [
    "# Thomas Algorithm"
   ]
  },
  {
   "cell_type": "code",
   "execution_count": 11,
   "metadata": {},
   "outputs": [],
   "source": [
    "def tridiagonal(\n",
    "    size: int, main_diag: float, sub_diag: float, sup_diag: float\n",
    ") -> np.ndarray:\n",
    "    \"\"\"\n",
    "    Returns a tridiagonal array with (size)x(size).\n",
    "    Diagonal values are taken as parameters.\n",
    "    \"\"\"\n",
    "    tridiag = np.zeros((size, size))\n",
    "\n",
    "    for i in range(size):\n",
    "        for j in range(size):\n",
    "            if i == j:\n",
    "                tridiag[i][j] = main_diag\n",
    "            if j == i + 1:\n",
    "                if i + 1 >= size:\n",
    "                    pass\n",
    "                else:\n",
    "                    tridiag[i][j] = sup_diag\n",
    "            if j == i - 1:\n",
    "                if i - 1 < 0:\n",
    "                    pass\n",
    "                else:\n",
    "                    tridiag[i][j] = sub_diag\n",
    "\n",
    "    return tridiag"
   ]
  },
  {
   "cell_type": "code",
   "execution_count": 12,
   "metadata": {},
   "outputs": [],
   "source": [
    "# Alternative version using numpy functions instead\n",
    "def tridiagonal2(\n",
    "    size: int, main_diag: float, sub_diag: float, sup_diag: float\n",
    ") -> np.ndarray:\n",
    "    main_diag_values = np.full(size, main_diag)\n",
    "    sub_diag_values = np.full(size - 1, sub_diag)\n",
    "    sup_diag_values = np.full(size - 1, sup_diag)\n",
    "    tridiag = (\n",
    "        np.diag(main_diag_values)\n",
    "        + np.diag(sub_diag_values, k=-1)\n",
    "        + np.diag(sup_diag_values, k=1)\n",
    "    )\n",
    "    return tridiag"
   ]
  },
  {
   "cell_type": "code",
   "execution_count": 13,
   "metadata": {},
   "outputs": [
    {
     "name": "stdout",
     "output_type": "stream",
     "text": [
      "[[1. 3. 0. 0. 0. 0. 0. 0. 0. 0.]\n",
      " [2. 1. 3. 0. 0. 0. 0. 0. 0. 0.]\n",
      " [0. 2. 1. 3. 0. 0. 0. 0. 0. 0.]\n",
      " [0. 0. 2. 1. 3. 0. 0. 0. 0. 0.]\n",
      " [0. 0. 0. 2. 1. 3. 0. 0. 0. 0.]\n",
      " [0. 0. 0. 0. 2. 1. 3. 0. 0. 0.]\n",
      " [0. 0. 0. 0. 0. 2. 1. 3. 0. 0.]\n",
      " [0. 0. 0. 0. 0. 0. 2. 1. 3. 0.]\n",
      " [0. 0. 0. 0. 0. 0. 0. 2. 1. 3.]\n",
      " [0. 0. 0. 0. 0. 0. 0. 0. 2. 1.]]\n"
     ]
    }
   ],
   "source": [
    "# Example of tridiagonal matrix\n",
    "tridiag = tridiagonal(10, 1, 2, 3)\n",
    "print(tridiag)"
   ]
  },
  {
   "cell_type": "code",
   "execution_count": 14,
   "metadata": {},
   "outputs": [],
   "source": [
    "def thomas(tridiag: np.ndarray, const_vect: np.ndarray) -> np.ndarray:\n",
    "    \"\"\"\n",
    "    Returns the root of a system of linear equations using the\n",
    "    Thomas algorithm.\n",
    "    \"\"\"\n",
    "    row = len(tridiag)\n",
    "    for i in range(row):\n",
    "        # Normalize by diagonal compound\n",
    "        tridiag[i, :] = tridiag[i, :] / tridiag[i, i]\n",
    "        const_vect[i] = const_vect[i] / tridiag[i, i]\n",
    "        # Eliminate non-zero entries below the diagonal compound\n",
    "        for i2 in range(i + 1, row):\n",
    "            if tridiag[i2, i] != 0:\n",
    "                tridiag[i2, :] -= tridiag[i, :] * tridiag[i2, i]\n",
    "                # Subtract corresponding constant vector entries\n",
    "                const_vect[i2] -= const_vect[i] * tridiag[i2, i]\n",
    "\n",
    "    # Use backward substitution to get the root vector\n",
    "    root_vect = np.zeros((row, 1))\n",
    "    # Last entry is simply equated\n",
    "    root_vect[-1] = const_vect[-1]\n",
    "    for i in range(row - 2, -1, -1):\n",
    "        root_vect[i] = const_vect[i] - tridiag[i, i + 1] * root_vect[i + 1]\n",
    "\n",
    "    return root_vect"
   ]
  },
  {
   "cell_type": "code",
   "execution_count": 15,
   "metadata": {},
   "outputs": [
    {
     "name": "stdout",
     "output_type": "stream",
     "text": [
      "solution >> [[10.]\n",
      " [18.]\n",
      " [24.]\n",
      " [28.]\n",
      " [30.]\n",
      " [30.]\n",
      " [28.]\n",
      " [24.]\n",
      " [18.]\n",
      " [10.]]\n"
     ]
    }
   ],
   "source": [
    "# Example of Thomas Algorithm\n",
    "tridiag = tridiagonal2(10, -2.0, 1.0, 1.0)  # Should put in float values!\n",
    "const_vect = np.arange(1, 11)\n",
    "root = thomas(tridiag, const_vect)\n",
    "print(f\"solution >> {root}\")\n",
    "# root_veri = np.linalg.solve(tridiag, const_vect)\n",
    "# print(f\"solution >> {root_veri}\")"
   ]
  },
  {
   "cell_type": "markdown",
   "metadata": {},
   "source": [
    "# Iterative Methods"
   ]
  },
  {
   "cell_type": "markdown",
   "metadata": {},
   "source": [
    "## Jacobi Method - Matrix-wise"
   ]
  },
  {
   "cell_type": "code",
   "execution_count": 20,
   "metadata": {},
   "outputs": [],
   "source": [
    "def jacobi(\n",
    "    coeff_mat: np.ndarray,\n",
    "    const_vect: np.ndarray,\n",
    "    init_guess: np.ndarray = None,\n",
    "    iterate: int = 100,\n",
    "    tol: float = 1e-6,\n",
    "):\n",
    "    \"\"\"\n",
    "    Returns the root of a system of linear equations solved by Jacobi method.\n",
    "    \"\"\"\n",
    "    row = len(coeff_mat)\n",
    "    if init_guess == None:\n",
    "        init_guess = np.ones(row)\n",
    "\n",
    "    # Decompose the coefficient matrix\n",
    "    diag_mat = np.diag(np.diag(coeff_mat))\n",
    "    # Should set the 'k' parameter to exclude main diagonal\n",
    "    lowertri = np.tril(coeff_mat, -1)\n",
    "    uppertri = np.triu(coeff_mat, 1)\n",
    "\n",
    "    root_vect = init_guess\n",
    "    for _ in range(iterate):\n",
    "        part1 = np.linalg.inv(diag_mat)\n",
    "        part2 = const_vect - np.dot((lowertri + uppertri), root_vect)\n",
    "        root_vect_new = np.dot(part1, part2)\n",
    "        if np.linalg.norm(np.matmul(coeff_mat, root_vect_new) - const_vect, 2) < tol:\n",
    "            return root_vect_new\n",
    "        root_vect = root_vect_new\n",
    "\n",
    "    return root_vect"
   ]
  },
  {
   "cell_type": "code",
   "execution_count": 21,
   "metadata": {},
   "outputs": [
    {
     "name": "stdout",
     "output_type": "stream",
     "text": [
      "solution >> [-19.60741788 -38.24600559 -54.94689553 -68.73139881 -78.62072613\n",
      " -83.61956373 -82.73246636 -74.94600749 -59.24663978 -34.60708672]\n",
      "solution verification >> [-20. -39. -56. -70. -80. -85. -84. -76. -60. -35.]\n"
     ]
    }
   ],
   "source": [
    "# Example of Jacobi Method\n",
    "tridiag = tridiagonal2(10, -2.0, 1.0, 1.0)  # Should put in float values!\n",
    "const_vect = np.arange(1, 11)\n",
    "root = jacobi(tridiag, const_vect)\n",
    "print(f\"solution >> {root}\")\n",
    "\n",
    "root_verify = np.linalg.solve(tridiag, const_vect)\n",
    "print(f\"solution verification >> {root_verify}\")"
   ]
  },
  {
   "cell_type": "markdown",
   "metadata": {},
   "source": [
    "## Gauss-Seidal Method"
   ]
  },
  {
   "cell_type": "code",
   "execution_count": 22,
   "metadata": {},
   "outputs": [],
   "source": [
    "def gauss_seidal(\n",
    "    coeff_mat: np.ndarray,\n",
    "    const_vect: np.ndarray,\n",
    "    init_guess: np.ndarray = None,\n",
    "    iterate: int = 100,\n",
    "    tol: float = 1e-6,\n",
    "):\n",
    "    \"\"\"\n",
    "    Returns the root of a system of linear equations solved by Gauss-Seidal method.\n",
    "    \"\"\"\n",
    "    row = len(coeff_mat)\n",
    "    if init_guess == None:\n",
    "        init_guess = np.ones(row)\n",
    "\n",
    "    root_vect = init_guess\n",
    "\n",
    "    for _ in range(iterate):\n",
    "        for i in range(row):\n",
    "            root_vect[i] = (\n",
    "                const_vect[i]\n",
    "                - np.dot(coeff_mat[i, :], root_vect)\n",
    "                + coeff_mat[i, i] * root_vect[i]\n",
    "            ) / coeff_mat[i, i]\n",
    "        if np.linalg.norm(np.matmul(coeff_mat, root_vect) - const_vect, 2) < tol:\n",
    "            return root_vect\n",
    "\n",
    "    return root_vect"
   ]
  },
  {
   "cell_type": "code",
   "execution_count": 23,
   "metadata": {},
   "outputs": [
    {
     "name": "stdout",
     "output_type": "stream",
     "text": [
      "solution >> [-19.99191557 -38.98511452 -55.98003479 -69.97694296 -79.97592666\n",
      " -84.9769018  -83.97963292 -75.98376386 -59.98885563 -34.99442781]\n"
     ]
    }
   ],
   "source": [
    "# Example of Gauss-Seidal Method\n",
    "tridiag = tridiagonal2(10, -2.0, 1.0, 1.0)  # Should put in float values!\n",
    "const_vect = np.arange(1, 11)\n",
    "root = gauss_seidal(tridiag, const_vect)\n",
    "print(f\"solution >> {root}\")"
   ]
  },
  {
   "cell_type": "code",
   "execution_count": null,
   "metadata": {},
   "outputs": [],
   "source": []
  }
 ],
 "metadata": {
  "kernelspec": {
   "display_name": "general",
   "language": "python",
   "name": "python3"
  },
  "language_info": {
   "codemirror_mode": {
    "name": "ipython",
    "version": 3
   },
   "file_extension": ".py",
   "mimetype": "text/x-python",
   "name": "python",
   "nbconvert_exporter": "python",
   "pygments_lexer": "ipython3",
   "version": "3.10.13"
  }
 },
 "nbformat": 4,
 "nbformat_minor": 2
}
