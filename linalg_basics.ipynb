{
 "cells": [
  {
   "cell_type": "markdown",
   "metadata": {},
   "source": [
    "**Ex. 020**: Write a code that computes the following operation of the matrix $B$,\n",
    "$$\n",
    "||B^{-1}||_1||B||_1\n",
    "$$\n",
    "Here $B$ is $3\\times 3$ matrix consisting of colored elements of $A$ where the red-colored, the blue-colored, and the green-colored elements are the 1st, the 2nd, the 3rd row of $B$, respectively.\n",
    "$$\n",
    "A = \\begin{bmatrix}\n",
    "1 & 2 & 31 & 49 & 67\\\\\n",
    "\\color{red}3 & 4 & \\color{red}{34} & 52 & \\color{red}{70}\\\\\n",
    "5 & \\color{#1E90FF}6 & 37 & 55 & 73\\\\\n",
    "7 & \\color{#1E90FF}8 & \\color{#00FF7F}{40} & 58 & 76\\\\\n",
    "9 & \\color{#1E90FF}{10} & 43 & \\color{#00FF7F}{61} & 79\\\\\n",
    "11 & 12 & 46 & 64 & \\color{#00FF7F}{82}\\\\\n",
    "\\end{bmatrix}\n",
    "$$"
   ]
  },
  {
   "cell_type": "code",
   "execution_count": 6,
   "metadata": {},
   "outputs": [
    {
     "name": "stdout",
     "output_type": "stream",
     "text": [
      "answer >> 73.95652173912983\n"
     ]
    }
   ],
   "source": [
    "import numpy as np\n",
    "import numpy.linalg as la\n",
    "\n",
    "A1 = np.arange(1, 13)\n",
    "A1 = np.reshape(A1, (6, 2))\n",
    "A2 = np.arange(31, 47, 3)[:, np.newaxis]\n",
    "A3 = np.arange(49, 65, 3)[:, np.newaxis]\n",
    "A4 = np.arange(67, 83, 3)[:, np.newaxis]\n",
    "\n",
    "A = np.hstack((A1, A2, A3, A4))\n",
    "\n",
    "B = np.zeros((3, 3))\n",
    "B[0, :] = A[1, 0::2]\n",
    "B[1, :] = A[2:5, 1]\n",
    "B[2, :] = np.diag(A[3:, 2:])\n",
    "\n",
    "# Matrix L1 norm is the maximum column sum\n",
    "B_inv = la.inv(B)\n",
    "B_inv_norm = np.max([np.sum(B_inv[:, i]) for i in range(np.shape(B_inv)[1])])\n",
    "B_norm = np.max([np.sum(B[:, i]) for i in range(np.shape(B)[1])])\n",
    "\n",
    "answer = B_inv_norm*B_norm\n",
    "print(f\"answer >> {answer}\")"
   ]
  },
  {
   "cell_type": "code",
   "execution_count": null,
   "metadata": {},
   "outputs": [],
   "source": []
  }
 ],
 "metadata": {
  "kernelspec": {
   "display_name": "general",
   "language": "python",
   "name": "python3"
  },
  "language_info": {
   "codemirror_mode": {
    "name": "ipython",
    "version": 3
   },
   "file_extension": ".py",
   "mimetype": "text/x-python",
   "name": "python",
   "nbconvert_exporter": "python",
   "pygments_lexer": "ipython3",
   "version": "3.7.11"
  }
 },
 "nbformat": 4,
 "nbformat_minor": 2
}
