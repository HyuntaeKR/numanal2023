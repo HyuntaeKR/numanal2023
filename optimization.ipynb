{
 "cells": [
  {
   "cell_type": "markdown",
   "metadata": {},
   "source": [
    "# Golden Section Search"
   ]
  },
  {
   "cell_type": "code",
   "execution_count": 1,
   "metadata": {},
   "outputs": [],
   "source": [
    "import numpy as np\n",
    "import typing\n",
    "from numpy import typing as nptyping"
   ]
  },
  {
   "cell_type": "code",
   "execution_count": 6,
   "metadata": {},
   "outputs": [],
   "source": [
    "def golden_section(f, boundary, maxiter=500, tol=1e-5):\n",
    "    r = (-1 + np.sqrt(5)) / 2  # golden ratio\n",
    "    a = boundary[0]  # lower bound\n",
    "    b = boundary[1]  # upper bound\n",
    "\n",
    "    for _ in range(maxiter):\n",
    "        h = b - a\n",
    "        if abs(h) < tol:\n",
    "            return (a + b) / 2\n",
    "        lower = b - r * h\n",
    "        upper = a + r * h\n",
    "\n",
    "        if f(lower) > f(upper):\n",
    "            a = lower\n",
    "        else:\n",
    "            b = upper\n",
    "\n",
    "    return (a + b) / 2"
   ]
  },
  {
   "cell_type": "code",
   "execution_count": 7,
   "metadata": {},
   "outputs": [
    {
     "name": "stdout",
     "output_type": "stream",
     "text": [
      "0.2407956610080465\n"
     ]
    }
   ],
   "source": [
    "# Example of Golden Section Search\n",
    "f = lambda x: np.exp(3 * x) + 5 * np.exp(-2 * x)\n",
    "root = golden_section(f, [0, 3])\n",
    "print(root)"
   ]
  },
  {
   "cell_type": "markdown",
   "metadata": {},
   "source": [
    "# Gradient Descent"
   ]
  },
  {
   "cell_type": "code",
   "execution_count": null,
   "metadata": {},
   "outputs": [],
   "source": []
  }
 ],
 "metadata": {
  "kernelspec": {
   "display_name": "pythonbase",
   "language": "python",
   "name": "python3"
  },
  "language_info": {
   "codemirror_mode": {
    "name": "ipython",
    "version": 3
   },
   "file_extension": ".py",
   "mimetype": "text/x-python",
   "name": "python",
   "nbconvert_exporter": "python",
   "pygments_lexer": "ipython3",
   "version": "3.10.13"
  }
 },
 "nbformat": 4,
 "nbformat_minor": 2
}
