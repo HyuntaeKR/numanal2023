{
 "cells": [
  {
   "cell_type": "markdown",
   "metadata": {},
   "source": [
    "# Bisection Method"
   ]
  },
  {
   "cell_type": "code",
   "execution_count": 10,
   "metadata": {},
   "outputs": [],
   "source": [
    "%reset -f\n",
    "import numpy as np\n",
    "import typing\n",
    "\n",
    "def bisection(\n",
    "        func: typing.Callable[[float], float], \n",
    "        boundary: list, \n",
    "        maxiter: int = 500, \n",
    "        tol: float = 1e-5\n",
    "        ) -> float:\n",
    "    \"\"\"\n",
    "    Returns root of given function in given boundary found by bisection method.\n",
    "    Function should be scalar-valued and single-variable.\n",
    "    \"\"\"\n",
    "    a = boundary[0] # lower bound\n",
    "    b = boundary[1] # upper bound\n",
    "    \n",
    "    assert func(a)*func(b) < 0, \"No root in given range.\"\n",
    "\n",
    "    if func(a)*func(b) == 0:\n",
    "        if func(a) == 0:\n",
    "            return a\n",
    "        else:\n",
    "            return b\n",
    "    else:\n",
    "        for _ in range(maxiter):\n",
    "            m = (a + b)/2 # midpoint\n",
    "\n",
    "            if abs(func(m)) < tol:\n",
    "                return m\n",
    "            \n",
    "            if func(a)*func(m) > 0:\n",
    "                a = m\n",
    "            else: # func(b)*func(m) > 0\n",
    "                b = m\n",
    "        \n",
    "        return m"
   ]
  },
  {
   "cell_type": "code",
   "execution_count": 11,
   "metadata": {},
   "outputs": [
    {
     "name": "stdout",
     "output_type": "stream",
     "text": [
      "2.219104766845703\n"
     ]
    }
   ],
   "source": [
    "# Example of bisection method\n",
    "import numpy as np\n",
    "\n",
    "func = lambda x: np.sin(x) - np.log(x)\n",
    "root = bisection(func, [1, 10])\n",
    "print(root)"
   ]
  },
  {
   "cell_type": "markdown",
   "metadata": {},
   "source": [
    "# Newton-Raphson Method"
   ]
  },
  {
   "cell_type": "code",
   "execution_count": 15,
   "metadata": {},
   "outputs": [],
   "source": [
    "%reset -f\n",
    "import numpy as np\n",
    "import typing\n",
    "\n",
    "from differentiation import diff\n",
    "\n",
    "def newton_raphson(\n",
    "        func: typing.Callable[[float], float],\n",
    "        diff_func: typing.Callable[[float], float] = None,\n",
    "        x0: float = 0.1,\n",
    "        tol: float = 1e-8,\n",
    "        maxiter: int = 500,\n",
    "    ) -> float:\n",
    "    \"\"\"\n",
    "    Returns root of given function found by Newton-Raphson method.\n",
    "    Function should be scalar-valued and single-variable.\n",
    "    \"\"\"\n",
    "    if diff_func is None: # Numerically differentiate\n",
    "        x = x0\n",
    "        for _ in range(maxiter):\n",
    "            if abs(func(x)) < tol:\n",
    "                return x\n",
    "            x -= func(x)/diff(func, x)\n",
    "\n",
    "        return x\n",
    "    else:\n",
    "        x = x0\n",
    "        for _ in range(maxiter):\n",
    "            if abs(func(x)) < tol:\n",
    "                return x\n",
    "            x -= func(x)/diff_func(x)\n",
    "        \n",
    "        return x"
   ]
  },
  {
   "cell_type": "code",
   "execution_count": 17,
   "metadata": {},
   "outputs": [
    {
     "name": "stdout",
     "output_type": "stream",
     "text": [
      "2.2191071489140937\n"
     ]
    }
   ],
   "source": [
    "# Example of Newton-Raphson method\n",
    "import numpy as np\n",
    "\n",
    "func = lambda x: np.sin(x) - np.log(x)\n",
    "diff_func = lambda x: np.cos(x) - 1 / x\n",
    "root = newton_raphson(func)\n",
    "print(root)"
   ]
  },
  {
   "cell_type": "code",
   "execution_count": null,
   "metadata": {},
   "outputs": [],
   "source": []
  }
 ],
 "metadata": {
  "kernelspec": {
   "display_name": "pythonbase",
   "language": "python",
   "name": "python3"
  },
  "language_info": {
   "codemirror_mode": {
    "name": "ipython",
    "version": 3
   },
   "file_extension": ".py",
   "mimetype": "text/x-python",
   "name": "python",
   "nbconvert_exporter": "python",
   "pygments_lexer": "ipython3",
   "version": "3.10.13"
  }
 },
 "nbformat": 4,
 "nbformat_minor": 2
}
