{
 "cells": [
  {
   "cell_type": "markdown",
   "metadata": {},
   "source": [
    "# Bisection Method"
   ]
  },
  {
   "cell_type": "code",
   "execution_count": 8,
   "metadata": {},
   "outputs": [],
   "source": [
    "%reset -f\n",
    "import numpy as np\n",
    "import typing\n",
    "\n",
    "def bisection(\n",
    "        func: typing.Callable[[float], float], \n",
    "        boundary: list, \n",
    "        maxiter: int = 500, \n",
    "        tol: float = 1e-5\n",
    "        ) -> float:\n",
    "    \"\"\"\n",
    "    Returns root of given function in given boundary found by Bisection Method.\n",
    "    Function should be scalar-valued and single-variable.\n",
    "    \"\"\"\n",
    "    a = boundary[0] # lower bound\n",
    "    b = boundary[1] # upper bound\n",
    "    \n",
    "    assert func(a)*func(b) < 0, \"No root in given range.\"\n",
    "\n",
    "    if func(a)*func(b) == 0:\n",
    "        if func(a) == 0:\n",
    "            return a\n",
    "        else:\n",
    "            return b\n",
    "    else:\n",
    "        for _ in range(maxiter):\n",
    "            m = (a + b)/2 # midpoint\n",
    "\n",
    "            if abs(func(m)) < tol:\n",
    "                return m\n",
    "            \n",
    "            if func(a)*func(m) > 0:\n",
    "                a = m\n",
    "            else: # func(b)*func(m) > 0\n",
    "                b = m\n",
    "        \n",
    "        return m"
   ]
  },
  {
   "cell_type": "code",
   "execution_count": 9,
   "metadata": {},
   "outputs": [
    {
     "name": "stdout",
     "output_type": "stream",
     "text": [
      "2.219104766845703\n"
     ]
    }
   ],
   "source": [
    "# Example of bisection method\n",
    "import numpy as np\n",
    "\n",
    "func = lambda x: np.sin(x) - np.log(x)\n",
    "root = bisection(func, [1, 10])\n",
    "print(root)"
   ]
  },
  {
   "cell_type": "markdown",
   "metadata": {},
   "source": [
    "# Newton-Raphson Method"
   ]
  },
  {
   "cell_type": "code",
   "execution_count": null,
   "metadata": {},
   "outputs": [],
   "source": [
    "%reset -f\n",
    "import numpy as np\n",
    "import typing\n",
    "\n",
    "def newton_raphson(\n",
    "        func: callable[[float], float],\n",
    "        x0: float = 0.0,\n",
    "        tol: float = 1e-8,\n",
    "    ) -> float:\n",
    "    "
   ]
  }
 ],
 "metadata": {
  "kernelspec": {
   "display_name": "pythonbase",
   "language": "python",
   "name": "python3"
  },
  "language_info": {
   "codemirror_mode": {
    "name": "ipython",
    "version": 3
   },
   "file_extension": ".py",
   "mimetype": "text/x-python",
   "name": "python",
   "nbconvert_exporter": "python",
   "pygments_lexer": "ipython3",
   "version": "3.10.13"
  }
 },
 "nbformat": 4,
 "nbformat_minor": 2
}
