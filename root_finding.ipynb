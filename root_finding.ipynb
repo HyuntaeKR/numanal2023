{
 "cells": [
  {
   "cell_type": "markdown",
   "metadata": {},
   "source": [
    "# Bisection Method"
   ]
  },
  {
   "cell_type": "code",
   "execution_count": 1,
   "metadata": {},
   "outputs": [],
   "source": [
    "%reset -f\n",
    "import numpy as np\n",
    "import typing\n",
    "\n",
    "def bisection(\n",
    "        func: typing.Callable[[float], float], \n",
    "        boundary: list, \n",
    "        maxiter: int = 500, \n",
    "        tol: float = 1e-5\n",
    "        ) -> float:\n",
    "    \"\"\"\n",
    "    Returns root of given function in given boundary found by bisection method.\n",
    "    Function should be scalar-valued and single-variable.\n",
    "    \"\"\"\n",
    "    a = boundary[0] # lower bound\n",
    "    b = boundary[1] # upper bound\n",
    "    \n",
    "    assert func(a)*func(b) < 0, \"No root in given range.\"\n",
    "\n",
    "    if func(a)*func(b) == 0:\n",
    "        if func(a) == 0:\n",
    "            return a\n",
    "        else:\n",
    "            return b\n",
    "    else:\n",
    "        for _ in range(maxiter):\n",
    "            m = (a + b)/2 # midpoint\n",
    "\n",
    "            if abs(func(m)) < tol:\n",
    "                return m\n",
    "            \n",
    "            if func(a)*func(m) > 0:\n",
    "                a = m\n",
    "            else: # func(b)*func(m) > 0\n",
    "                b = m\n",
    "        \n",
    "        return m"
   ]
  },
  {
   "cell_type": "code",
   "execution_count": 2,
   "metadata": {},
   "outputs": [
    {
     "name": "stdout",
     "output_type": "stream",
     "text": [
      "2.219104766845703\n"
     ]
    }
   ],
   "source": [
    "# Example of bisection method\n",
    "import numpy as np\n",
    "\n",
    "func = lambda x: np.sin(x) - np.log(x)\n",
    "root = bisection(func, [1, 10])\n",
    "print(root)"
   ]
  },
  {
   "cell_type": "markdown",
   "metadata": {},
   "source": [
    "# Newton-Raphson Method"
   ]
  },
  {
   "cell_type": "code",
   "execution_count": 1,
   "metadata": {},
   "outputs": [],
   "source": [
    "%reset -f\n",
    "import numpy as np\n",
    "import typing\n",
    "\n",
    "from differentiation import diff\n",
    "\n",
    "def newton_raphson(\n",
    "        func: typing.Callable[[float], float],\n",
    "        diff_func: typing.Callable[[float], float] = None,\n",
    "        x0: float = 0.1,\n",
    "        tol: float = 1e-8,\n",
    "        maxiter: int = 500,\n",
    "    ) -> float:\n",
    "    \"\"\"\n",
    "    Returns root of given function found by Newton-Raphson method.\n",
    "    Function should be scalar-valued and single-variable.\n",
    "    \"\"\"\n",
    "    if diff_func is None: # Numerically differentiate\n",
    "        x = x0\n",
    "        for _ in range(maxiter):\n",
    "            if abs(func(x)) < tol:\n",
    "                return x\n",
    "            x -= func(x)/diff(func, x)\n",
    "\n",
    "        return x\n",
    "    else:\n",
    "        x = x0\n",
    "        for _ in range(maxiter):\n",
    "            if abs(func(x)) < tol:\n",
    "                return x\n",
    "            x -= func(x)/diff_func(x)\n",
    "        \n",
    "        return x"
   ]
  },
  {
   "cell_type": "code",
   "execution_count": 4,
   "metadata": {},
   "outputs": [
    {
     "name": "stdout",
     "output_type": "stream",
     "text": [
      "2.2191071489140937\n"
     ]
    }
   ],
   "source": [
    "# Example of Newton-Raphson method\n",
    "import numpy as np\n",
    "\n",
    "func = lambda x: np.sin(x) - np.log(x)\n",
    "diff_func = lambda x: np.cos(x) - 1 / x\n",
    "root = newton_raphson(func)\n",
    "print(root)"
   ]
  },
  {
   "cell_type": "code",
   "execution_count": 4,
   "metadata": {},
   "outputs": [],
   "source": [
    "%reset -f\n",
    "import numpy as np\n",
    "import typing\n",
    "from numpy import typing as nptyping\n",
    "\n",
    "from differentiation import jacobi\n",
    "\n",
    "def newton_raphson_multivar(\n",
    "    func: typing.Callable[[nptyping.ArrayLike], nptyping.ArrayLike],\n",
    "    x0: nptyping.ArrayLike,\n",
    "    jacobian: typing.Callable[[nptyping.ArrayLike], np.ndarray] = None,\n",
    "    tol: float = 1e-8,\n",
    "    maxiter: int = 500,\n",
    ") -> np.ndarray:\n",
    "    if jacobian is None:\n",
    "        x = x0\n",
    "        for _ in range(maxiter):\n",
    "            if np.linalg.norm(func(x)) < tol:\n",
    "                return x\n",
    "            jacobian = jacobi(func, x)            \n",
    "            # Can use any system of equations solving method here\n",
    "            delta_x = -np.matmul(np.linalg.inv(jacobian), func(x))\n",
    "            \n",
    "            x += delta_x\n",
    "        print(\"Warning: Did not converge within the specified number of iterations.\")\n",
    "        return x\n",
    "    else:\n",
    "        x = x0\n",
    "\n",
    "        for _ in range(maxiter):\n",
    "            if np.linalg.norm(func(x)) < tol:\n",
    "                return x\n",
    "            # Can use any system of equations solving method here\n",
    "            delta_x = -np.matmul(np.linalg.inv(jacobian(x)), func(x))\n",
    "            \n",
    "            x += delta_x\n",
    "        return x\n"
   ]
  },
  {
   "cell_type": "code",
   "execution_count": 5,
   "metadata": {},
   "outputs": [
    {
     "ename": "TypeError",
     "evalue": "'float' object is not subscriptable",
     "output_type": "error",
     "traceback": [
      "\u001b[0;31m---------------------------------------------------------------------------\u001b[0m",
      "\u001b[0;31mTypeError\u001b[0m                                 Traceback (most recent call last)",
      "Cell \u001b[0;32mIn[5], line 10\u001b[0m\n\u001b[1;32m      6\u001b[0m     out2 \u001b[38;5;241m=\u001b[39m x \u001b[38;5;241m*\u001b[39m y \u001b[38;5;241m-\u001b[39m x \u001b[38;5;241m-\u001b[39m \u001b[38;5;241m5\u001b[39m\n\u001b[1;32m      7\u001b[0m     \u001b[38;5;28;01mreturn\u001b[39;00m np\u001b[38;5;241m.\u001b[39marray([out1, out2])\n\u001b[0;32m---> 10\u001b[0m root \u001b[38;5;241m=\u001b[39m \u001b[43mnewton_raphson_multivar\u001b[49m\u001b[43m(\u001b[49m\u001b[43mmy_vector_function\u001b[49m\u001b[43m,\u001b[49m\u001b[43m \u001b[49m\u001b[43m[\u001b[49m\u001b[38;5;241;43m1.0\u001b[39;49m\u001b[43m,\u001b[49m\u001b[43m \u001b[49m\u001b[38;5;241;43m1.0\u001b[39;49m\u001b[43m]\u001b[49m\u001b[43m)\u001b[49m\n\u001b[1;32m     11\u001b[0m \u001b[38;5;28mprint\u001b[39m(root)\n",
      "Cell \u001b[0;32mIn[4], line 18\u001b[0m, in \u001b[0;36mnewton_raphson_multivar\u001b[0;34m(func, x0, jacobian, tol, maxiter)\u001b[0m\n\u001b[1;32m     16\u001b[0m x \u001b[38;5;241m=\u001b[39m x0\n\u001b[1;32m     17\u001b[0m \u001b[38;5;28;01mfor\u001b[39;00m _ \u001b[38;5;129;01min\u001b[39;00m \u001b[38;5;28mrange\u001b[39m(maxiter):\n\u001b[0;32m---> 18\u001b[0m     \u001b[38;5;28;01mif\u001b[39;00m np\u001b[38;5;241m.\u001b[39mlinalg\u001b[38;5;241m.\u001b[39mnorm(\u001b[43mfunc\u001b[49m\u001b[43m(\u001b[49m\u001b[43mx\u001b[49m\u001b[43m)\u001b[49m) \u001b[38;5;241m<\u001b[39m tol:\n\u001b[1;32m     19\u001b[0m         \u001b[38;5;28;01mreturn\u001b[39;00m x\n\u001b[1;32m     20\u001b[0m     jacobian \u001b[38;5;241m=\u001b[39m jacobi(func, x)            \n",
      "Cell \u001b[0;32mIn[5], line 4\u001b[0m, in \u001b[0;36mmy_vector_function\u001b[0;34m(x)\u001b[0m\n\u001b[1;32m      2\u001b[0m \u001b[38;5;28;01mdef\u001b[39;00m \u001b[38;5;21mmy_vector_function\u001b[39m(x: nptyping\u001b[38;5;241m.\u001b[39mArrayLike) \u001b[38;5;241m-\u001b[39m\u001b[38;5;241m>\u001b[39m np\u001b[38;5;241m.\u001b[39mndarray:\n\u001b[1;32m      3\u001b[0m     x \u001b[38;5;241m=\u001b[39m x[\u001b[38;5;241m0\u001b[39m]\n\u001b[0;32m----> 4\u001b[0m     y \u001b[38;5;241m=\u001b[39m \u001b[43mx\u001b[49m\u001b[43m[\u001b[49m\u001b[38;5;241;43m1\u001b[39;49m\u001b[43m]\u001b[49m\n\u001b[1;32m      5\u001b[0m     out1 \u001b[38;5;241m=\u001b[39m x \u001b[38;5;241m*\u001b[39m np\u001b[38;5;241m.\u001b[39mcos(y) \u001b[38;5;241m-\u001b[39m \u001b[38;5;241m4\u001b[39m\n\u001b[1;32m      6\u001b[0m     out2 \u001b[38;5;241m=\u001b[39m x \u001b[38;5;241m*\u001b[39m y \u001b[38;5;241m-\u001b[39m x \u001b[38;5;241m-\u001b[39m \u001b[38;5;241m5\u001b[39m\n",
      "\u001b[0;31mTypeError\u001b[0m: 'float' object is not subscriptable"
     ]
    }
   ],
   "source": [
    "# Example of Newton-Raphson method for system of equations\n",
    "def my_vector_function(X: nptyping.ArrayLike) -> np.ndarray:\n",
    "    x = X[0]\n",
    "    y = X[1]\n",
    "    out1 = x * np.cos(y) - 4\n",
    "    out2 = x * y - x - 5\n",
    "    return np.array([out1, out2])\n",
    "\n",
    "\n",
    "root = newton_raphson_multivar(my_vector_function, [1.0, 1.0])\n",
    "print(root)"
   ]
  },
  {
   "cell_type": "markdown",
   "metadata": {},
   "source": [
    "Code From ChatGPT"
   ]
  },
  {
   "cell_type": "code",
   "execution_count": 7,
   "metadata": {},
   "outputs": [
    {
     "name": "stdout",
     "output_type": "stream",
     "text": [
      "[[2.000001 0.      ]\n",
      " [0.       2.000001]]\n",
      "[[4.9999995 0.       ]\n",
      " [0.        2.000001 ]]\n",
      "[[4.10000091 0.        ]\n",
      " [0.         2.000001  ]]\n",
      "[[4.00122053 0.        ]\n",
      " [0.         2.000001  ]]\n",
      "[[4.00000119 0.        ]\n",
      " [0.         2.000001  ]]\n",
      "Solution: [2. 1.]\n",
      "Number of Iterations: 5\n"
     ]
    }
   ],
   "source": [
    "import numpy as np\n",
    "from numpy.linalg import inv, norm\n",
    "\n",
    "\n",
    "def numerical_jacobian(f, x, epsilon=1e-8):\n",
    "    \"\"\"\n",
    "    Numerically calculate the Jacobian matrix of a vector function f with respect to x.\n",
    "\n",
    "    Parameters:\n",
    "        - f: The vector function, a callable that takes an n-dimensional vector x and returns an m-dimensional vector.\n",
    "        - x: The input vector.\n",
    "        - epsilon: The finite difference step size for numerical differentiation.\n",
    "\n",
    "    Returns:\n",
    "        - J: The Jacobian matrix of f with respect to x.\n",
    "    \"\"\"\n",
    "    n = len(x)\n",
    "    m = len(f(x))\n",
    "    J = np.zeros((m, n))\n",
    "\n",
    "    for i in range(n):\n",
    "        x_plus_epsilon = x.copy()\n",
    "        x_plus_epsilon[i] += epsilon\n",
    "        J[:, i] = (f(x_plus_epsilon) - f(x)) / epsilon\n",
    "\n",
    "    return J\n",
    "\n",
    "\n",
    "def newton_raphson(f, x0, epsilon=1e-6, max_iter=100):\n",
    "    \"\"\"\n",
    "    Perform the Newton-Raphson method for solving a system of nonlinear equations using numerical Jacobian.\n",
    "\n",
    "    Parameters:\n",
    "        - f: The vector function, a callable that takes an n-dimensional vector x and returns an n-dimensional vector.\n",
    "        - x0: The initial guess for the solution.\n",
    "        - epsilon: The finite difference step size for numerical Jacobian.\n",
    "        - tol: Tolerance for convergence.\n",
    "        - max_iter: Maximum number of iterations.\n",
    "\n",
    "    Returns:\n",
    "        - x: The solution vector.\n",
    "        - num_iter: The number of iterations performed.\n",
    "    \"\"\"\n",
    "    x = x0.copy()\n",
    "\n",
    "    for i in range(max_iter):\n",
    "        # Calculate the Jacobian matrix numerically\n",
    "        J = numerical_jacobian(f, x, epsilon)\n",
    "\n",
    "        print(J)\n",
    "\n",
    "        # Solve the linear system J * delta_x = -f(x)\n",
    "        delta_x = -np.dot(inv(J), f(x))\n",
    "\n",
    "        # Update the solution\n",
    "        x += delta_x\n",
    "\n",
    "        # Check for convergence\n",
    "        if norm(delta_x) < epsilon:\n",
    "            return x, i + 1  # Return the solution and the number of iterations\n",
    "\n",
    "    # If the method did not converge, raise a warning\n",
    "    print(\n",
    "        \"Warning: Newton-Raphson method did not converge within the specified number of iterations.\"\n",
    "    )\n",
    "\n",
    "    return x, max_iter\n",
    "\n",
    "\n",
    "# Example usage:\n",
    "# Define your vector function f(x)\n",
    "def my_vector_function(x):\n",
    "    return np.array([x[0] ** 2 - 4, x[1] ** 2 - 1])\n",
    "\n",
    "\n",
    "# Choose an initial guess\n",
    "initial_guess = np.array([1.0, 1.0])\n",
    "\n",
    "# Apply the Newton-Raphson method with numerical Jacobian\n",
    "solution, iterations = newton_raphson(my_vector_function, initial_guess)\n",
    "\n",
    "print(\"Solution:\", solution)\n",
    "print(\"Number of Iterations:\", iterations)"
   ]
  },
  {
   "cell_type": "code",
   "execution_count": null,
   "metadata": {},
   "outputs": [],
   "source": []
  }
 ],
 "metadata": {
  "kernelspec": {
   "display_name": "pythonbase",
   "language": "python",
   "name": "python3"
  },
  "language_info": {
   "codemirror_mode": {
    "name": "ipython",
    "version": 3
   },
   "file_extension": ".py",
   "mimetype": "text/x-python",
   "name": "python",
   "nbconvert_exporter": "python",
   "pygments_lexer": "ipython3",
   "version": "3.10.13"
  }
 },
 "nbformat": 4,
 "nbformat_minor": 2
}
