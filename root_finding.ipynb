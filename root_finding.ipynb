{
 "cells": [
  {
   "cell_type": "markdown",
   "metadata": {},
   "source": [
    "# Bisection Method"
   ]
  },
  {
   "cell_type": "code",
   "execution_count": 1,
   "metadata": {},
   "outputs": [],
   "source": [
    "%reset -f\n",
    "import numpy as np\n",
    "import typing\n",
    "\n",
    "def bisection(\n",
    "        func: typing.Callable[[float], float], \n",
    "        boundary: list, \n",
    "        maxiter: int = 500, \n",
    "        tol: float = 1e-5\n",
    "        ) -> float:\n",
    "    \"\"\"\n",
    "    Returns root of given function in given boundary found by bisection method.\n",
    "    Function should be scalar-valued and single-variable.\n",
    "    \"\"\"\n",
    "    a = boundary[0] # lower bound\n",
    "    b = boundary[1] # upper bound\n",
    "    \n",
    "    assert func(a)*func(b) < 0, \"No root in given range.\"\n",
    "\n",
    "    if func(a)*func(b) == 0:\n",
    "        if func(a) == 0:\n",
    "            return a\n",
    "        else:\n",
    "            return b\n",
    "    else:\n",
    "        for _ in range(maxiter):\n",
    "            m = (a + b)/2 # midpoint\n",
    "\n",
    "            if abs(func(m)) < tol:\n",
    "                return m\n",
    "            \n",
    "            if func(a)*func(m) > 0:\n",
    "                a = m\n",
    "            else: # func(b)*func(m) > 0\n",
    "                b = m\n",
    "        \n",
    "        return m"
   ]
  },
  {
   "cell_type": "code",
   "execution_count": 2,
   "metadata": {},
   "outputs": [
    {
     "name": "stdout",
     "output_type": "stream",
     "text": [
      "2.219104766845703\n"
     ]
    }
   ],
   "source": [
    "# Example of bisection method\n",
    "import numpy as np\n",
    "\n",
    "func = lambda x: np.sin(x) - np.log(x)\n",
    "root = bisection(func, [1, 10])\n",
    "print(root)"
   ]
  },
  {
   "cell_type": "markdown",
   "metadata": {},
   "source": [
    "# Newton-Raphson Method"
   ]
  },
  {
   "cell_type": "code",
   "execution_count": 3,
   "metadata": {},
   "outputs": [],
   "source": [
    "%reset -f\n",
    "import numpy as np\n",
    "import typing\n",
    "\n",
    "from differentiation import diff\n",
    "\n",
    "def newton_raphson(\n",
    "        func: typing.Callable[[float], float],\n",
    "        diff_func: typing.Callable[[float], float] = None,\n",
    "        x0: float = 0.1,\n",
    "        tol: float = 1e-8,\n",
    "        maxiter: int = 500,\n",
    "    ) -> float:\n",
    "    \"\"\"\n",
    "    Returns root of given function found by Newton-Raphson method.\n",
    "    Function should be scalar-valued and single-variable.\n",
    "    \"\"\"\n",
    "    if diff_func is None: # Numerically differentiate\n",
    "        x = x0\n",
    "        for _ in range(maxiter):\n",
    "            if abs(func(x)) < tol:\n",
    "                return x\n",
    "            x -= func(x)/diff(func, x)\n",
    "\n",
    "        return x\n",
    "    else:\n",
    "        x = x0\n",
    "        for _ in range(maxiter):\n",
    "            if abs(func(x)) < tol:\n",
    "                return x\n",
    "            x -= func(x)/diff_func(x)\n",
    "        \n",
    "        return x"
   ]
  },
  {
   "cell_type": "code",
   "execution_count": 4,
   "metadata": {},
   "outputs": [
    {
     "name": "stdout",
     "output_type": "stream",
     "text": [
      "2.2191071489140937\n"
     ]
    }
   ],
   "source": [
    "# Example of Newton-Raphson method\n",
    "import numpy as np\n",
    "\n",
    "func = lambda x: np.sin(x) - np.log(x)\n",
    "diff_func = lambda x: np.cos(x) - 1 / x\n",
    "root = newton_raphson(func)\n",
    "print(root)"
   ]
  },
  {
   "cell_type": "markdown",
   "metadata": {},
   "source": [
    "<span style=\"color:orange;font-size:16pt\">\n",
    "Newton-Raphson Method for system of eqns (code below) failed to converge.\n",
    "</span>"
   ]
  },
  {
   "cell_type": "code",
   "execution_count": 29,
   "metadata": {},
   "outputs": [],
   "source": [
    "%reset -f\n",
    "import numpy as np\n",
    "import typing\n",
    "from numpy import typing as nptyping\n",
    "\n",
    "from differentiation import jacobi\n",
    "\n",
    "def newton_raphson_multivar(\n",
    "    func_vect: typing.List[typing.Callable[[nptyping.ArrayLike], nptyping.ArrayLike]],\n",
    "    x0_vect: nptyping.ArrayLike,\n",
    "    jacobian: typing.Callable[[nptyping.ArrayLike], np.ndarray] = None,\n",
    "    tol: float = 1e-8,\n",
    "    maxiter: int = 500,\n",
    ") -> np.ndarray:\n",
    "    if jacobian is None:\n",
    "        x_vect = x0_vect\n",
    "        for _ in range(maxiter):\n",
    "            if np.linalg.norm(func_vect(x_vect)) < tol:\n",
    "                return x_vect\n",
    "            jacobian = jacobi(func_vect, x_vect)\n",
    "            # Can use any system of equations solving method here\n",
    "            delta_x_vect = -np.dot(jacobian, func_vect(x_vect))\n",
    "            \n",
    "            x_vect += delta_x_vect\n",
    "        print(\"Warning: Newton-Raphson method did not converge within the specified number of iterations.\")\n",
    "        return x_vect\n",
    "    else:\n",
    "        x_vect = x0_vect\n",
    "\n",
    "        for _ in range(maxiter):\n",
    "            if np.linalg.norm(func_vect(x_vect)) < tol:\n",
    "                return x_vect\n",
    "            # Can use any system of equations solving method here\n",
    "            delta_x_vect = np.matmul(np.linalg.inv(jacobian(x_vect)), -func_vect(x_vect))\n",
    "            \n",
    "            x_vect += delta_x_vect\n",
    "        return x_vect\n"
   ]
  },
  {
   "cell_type": "code",
   "execution_count": 31,
   "metadata": {},
   "outputs": [
    {
     "name": "stdout",
     "output_type": "stream",
     "text": [
      "Warning: Newton-Raphson method did not converge within the specified number of iterations.\n",
      "[-2.58570458e+11  3.65913580e+11]\n"
     ]
    }
   ],
   "source": [
    "# Example of Newton-Raphson method for system of equations\n",
    "func_vect = lambda x_vect: np.array(\n",
    "    [x_vect[0] * np.cos(x_vect[1]) - 4, x_vect[0] * x_vect[1] - x_vect[0] - 5]\n",
    ")\n",
    "root = newton_raphson_multivar(func_vect, [0.1, 0.1])\n",
    "print(root)"
   ]
  },
  {
   "cell_type": "markdown",
   "metadata": {},
   "source": [
    "Code From ChatGPT"
   ]
  },
  {
   "cell_type": "code",
   "execution_count": 32,
   "metadata": {},
   "outputs": [
    {
     "name": "stdout",
     "output_type": "stream",
     "text": [
      "Solution: [2. 1.]\n",
      "Number of Iterations: 5\n"
     ]
    }
   ],
   "source": [
    "import numpy as np\n",
    "from numpy.linalg import inv, norm\n",
    "\n",
    "\n",
    "def numerical_jacobian(f, x, epsilon=1e-8):\n",
    "    \"\"\"\n",
    "    Numerically calculate the Jacobian matrix of a vector function f with respect to x.\n",
    "\n",
    "    Parameters:\n",
    "        - f: The vector function, a callable that takes an n-dimensional vector x and returns an m-dimensional vector.\n",
    "        - x: The input vector.\n",
    "        - epsilon: The finite difference step size for numerical differentiation.\n",
    "\n",
    "    Returns:\n",
    "        - J: The Jacobian matrix of f with respect to x.\n",
    "    \"\"\"\n",
    "    n = len(x)\n",
    "    m = len(f(x))\n",
    "    J = np.zeros((m, n))\n",
    "\n",
    "    for i in range(n):\n",
    "        x_plus_epsilon = x.copy()\n",
    "        x_plus_epsilon[i] += epsilon\n",
    "        J[:, i] = (f(x_plus_epsilon) - f(x)) / epsilon\n",
    "\n",
    "    return J\n",
    "\n",
    "\n",
    "def newton_raphson(f, x0, epsilon=1e-6, max_iter=100):\n",
    "    \"\"\"\n",
    "    Perform the Newton-Raphson method for solving a system of nonlinear equations using numerical Jacobian.\n",
    "\n",
    "    Parameters:\n",
    "        - f: The vector function, a callable that takes an n-dimensional vector x and returns an n-dimensional vector.\n",
    "        - x0: The initial guess for the solution.\n",
    "        - epsilon: The finite difference step size for numerical Jacobian.\n",
    "        - tol: Tolerance for convergence.\n",
    "        - max_iter: Maximum number of iterations.\n",
    "\n",
    "    Returns:\n",
    "        - x: The solution vector.\n",
    "        - num_iter: The number of iterations performed.\n",
    "    \"\"\"\n",
    "    x = x0.copy()\n",
    "\n",
    "    for i in range(max_iter):\n",
    "        # Calculate the Jacobian matrix numerically\n",
    "        J = numerical_jacobian(f, x, epsilon)\n",
    "\n",
    "        # Solve the linear system J * delta_x = -f(x)\n",
    "        delta_x = -np.dot(inv(J), f(x))\n",
    "\n",
    "        # Update the solution\n",
    "        x += delta_x\n",
    "\n",
    "        # Check for convergence\n",
    "        if norm(delta_x) < epsilon:\n",
    "            return x, i + 1  # Return the solution and the number of iterations\n",
    "\n",
    "    # If the method did not converge, raise a warning\n",
    "    print(\n",
    "        \"Warning: Newton-Raphson method did not converge within the specified number of iterations.\"\n",
    "    )\n",
    "\n",
    "    return x, max_iter\n",
    "\n",
    "\n",
    "# Example usage:\n",
    "# Define your vector function f(x)\n",
    "def my_vector_function(x):\n",
    "    return np.array([x[0] ** 2 - 4, x[1] ** 2 - 1])\n",
    "\n",
    "\n",
    "# Choose an initial guess\n",
    "initial_guess = np.array([1.0, 1.0])\n",
    "\n",
    "# Apply the Newton-Raphson method with numerical Jacobian\n",
    "solution, iterations = newton_raphson(my_vector_function, initial_guess)\n",
    "\n",
    "print(\"Solution:\", solution)\n",
    "print(\"Number of Iterations:\", iterations)"
   ]
  },
  {
   "cell_type": "code",
   "execution_count": null,
   "metadata": {},
   "outputs": [],
   "source": []
  }
 ],
 "metadata": {
  "kernelspec": {
   "display_name": "pythonbase",
   "language": "python",
   "name": "python3"
  },
  "language_info": {
   "codemirror_mode": {
    "name": "ipython",
    "version": 3
   },
   "file_extension": ".py",
   "mimetype": "text/x-python",
   "name": "python",
   "nbconvert_exporter": "python",
   "pygments_lexer": "ipython3",
   "version": "3.10.13"
  }
 },
 "nbformat": 4,
 "nbformat_minor": 2
}
